{
 "cells": [
  {
   "cell_type": "code",
   "execution_count": 1,
   "id": "26b5aab5",
   "metadata": {},
   "outputs": [],
   "source": [
    "#Importing libraries\n",
    "import pandas as pd\n",
    "import numpy as np\n",
    "import matplotlib.pyplot as plt\n",
    "from sklearn.impute import SimpleImputer\n",
    "from sklearn.model_selection import train_test_split\n",
    "\n",
    "from sklearn.linear_model import LinearRegression\n",
    "from sklearn.metrics import mean_squared_error\n",
    "from datetime import datetime\n",
    "from sklearn.preprocessing import StandardScaler\n",
    "from sklearn.compose import ColumnTransformer\n",
    "from sklearn.preprocessing import OneHotEncoder\n",
    "\n",
    "from sklearn.metrics import r2_score\n",
    "from sklearn.linear_model import BayesianRidge\n",
    "from sklearn.tree import DecisionTreeRegressor\n",
    "from sklearn.linear_model import Lasso\n",
    "import xgboost as xgb\n",
    "from sklearn.ensemble import RandomForestRegressor"
   ]
  },
  {
   "cell_type": "code",
   "execution_count": 2,
   "id": "fc2925b6",
   "metadata": {},
   "outputs": [],
   "source": [
    "#Load the dataset\n",
    "df = pd.read_csv(\"C:/Users/shram/Downloads/Real time Air Quality Index.csv\")"
   ]
  },
  {
   "cell_type": "code",
   "execution_count": 3,
   "id": "b0f0825c",
   "metadata": {
    "scrolled": true
   },
   "outputs": [
    {
     "data": {
      "text/html": [
       "<div>\n",
       "<style scoped>\n",
       "    .dataframe tbody tr th:only-of-type {\n",
       "        vertical-align: middle;\n",
       "    }\n",
       "\n",
       "    .dataframe tbody tr th {\n",
       "        vertical-align: top;\n",
       "    }\n",
       "\n",
       "    .dataframe thead th {\n",
       "        text-align: right;\n",
       "    }\n",
       "</style>\n",
       "<table border=\"1\" class=\"dataframe\">\n",
       "  <thead>\n",
       "    <tr style=\"text-align: right;\">\n",
       "      <th></th>\n",
       "      <th>country</th>\n",
       "      <th>state</th>\n",
       "      <th>city</th>\n",
       "      <th>station</th>\n",
       "      <th>last_update</th>\n",
       "      <th>latitude</th>\n",
       "      <th>longitude</th>\n",
       "      <th>pollutant_id</th>\n",
       "      <th>pollutant_min</th>\n",
       "      <th>pollutant_max</th>\n",
       "      <th>pollutant_avg</th>\n",
       "    </tr>\n",
       "  </thead>\n",
       "  <tbody>\n",
       "    <tr>\n",
       "      <th>0</th>\n",
       "      <td>India</td>\n",
       "      <td>Andhra_Pradesh</td>\n",
       "      <td>Amaravati</td>\n",
       "      <td>Secretariat, Amaravati - APPCB</td>\n",
       "      <td>11-04-2024 18:00:00</td>\n",
       "      <td>16.515083</td>\n",
       "      <td>80.518167</td>\n",
       "      <td>NH3</td>\n",
       "      <td>3.0</td>\n",
       "      <td>4.0</td>\n",
       "      <td>4.0</td>\n",
       "    </tr>\n",
       "    <tr>\n",
       "      <th>1</th>\n",
       "      <td>India</td>\n",
       "      <td>Andhra_Pradesh</td>\n",
       "      <td>Anantapur</td>\n",
       "      <td>Gulzarpet, Anantapur - APPCB</td>\n",
       "      <td>11-04-2024 18:00:00</td>\n",
       "      <td>14.675886</td>\n",
       "      <td>77.593027</td>\n",
       "      <td>PM10</td>\n",
       "      <td>72.0</td>\n",
       "      <td>106.0</td>\n",
       "      <td>90.0</td>\n",
       "    </tr>\n",
       "    <tr>\n",
       "      <th>2</th>\n",
       "      <td>India</td>\n",
       "      <td>Andhra_Pradesh</td>\n",
       "      <td>Kadapa</td>\n",
       "      <td>Yerramukkapalli, Kadapa - APPCB</td>\n",
       "      <td>11-04-2024 18:00:00</td>\n",
       "      <td>14.465052</td>\n",
       "      <td>78.824187</td>\n",
       "      <td>OZONE</td>\n",
       "      <td>16.0</td>\n",
       "      <td>73.0</td>\n",
       "      <td>50.0</td>\n",
       "    </tr>\n",
       "    <tr>\n",
       "      <th>3</th>\n",
       "      <td>India</td>\n",
       "      <td>Andhra_Pradesh</td>\n",
       "      <td>Rajamahendravaram</td>\n",
       "      <td>Anand Kala Kshetram, Rajamahendravaram - APPCB</td>\n",
       "      <td>11-04-2024 18:00:00</td>\n",
       "      <td>16.987287</td>\n",
       "      <td>81.736318</td>\n",
       "      <td>PM2.5</td>\n",
       "      <td>39.0</td>\n",
       "      <td>407.0</td>\n",
       "      <td>117.0</td>\n",
       "    </tr>\n",
       "    <tr>\n",
       "      <th>4</th>\n",
       "      <td>India</td>\n",
       "      <td>Andhra_Pradesh</td>\n",
       "      <td>Tirupati</td>\n",
       "      <td>Tirumala, Tirupati - APPCB</td>\n",
       "      <td>11-04-2024 18:00:00</td>\n",
       "      <td>13.670000</td>\n",
       "      <td>79.350000</td>\n",
       "      <td>PM2.5</td>\n",
       "      <td>32.0</td>\n",
       "      <td>95.0</td>\n",
       "      <td>61.0</td>\n",
       "    </tr>\n",
       "    <tr>\n",
       "      <th>...</th>\n",
       "      <td>...</td>\n",
       "      <td>...</td>\n",
       "      <td>...</td>\n",
       "      <td>...</td>\n",
       "      <td>...</td>\n",
       "      <td>...</td>\n",
       "      <td>...</td>\n",
       "      <td>...</td>\n",
       "      <td>...</td>\n",
       "      <td>...</td>\n",
       "      <td>...</td>\n",
       "    </tr>\n",
       "    <tr>\n",
       "      <th>3267</th>\n",
       "      <td>India</td>\n",
       "      <td>West_Bengal</td>\n",
       "      <td>Kolkata</td>\n",
       "      <td>Jadavpur, Kolkata - WBPCB</td>\n",
       "      <td>11-04-2024 18:00:00</td>\n",
       "      <td>22.499290</td>\n",
       "      <td>88.369170</td>\n",
       "      <td>OZONE</td>\n",
       "      <td>8.0</td>\n",
       "      <td>117.0</td>\n",
       "      <td>77.0</td>\n",
       "    </tr>\n",
       "    <tr>\n",
       "      <th>3268</th>\n",
       "      <td>India</td>\n",
       "      <td>West_Bengal</td>\n",
       "      <td>Kolkata</td>\n",
       "      <td>Rabindra Sarobar, Kolkata - WBPCB</td>\n",
       "      <td>11-04-2024 18:00:00</td>\n",
       "      <td>22.511060</td>\n",
       "      <td>88.351420</td>\n",
       "      <td>SO2</td>\n",
       "      <td>21.0</td>\n",
       "      <td>101.0</td>\n",
       "      <td>41.0</td>\n",
       "    </tr>\n",
       "    <tr>\n",
       "      <th>3269</th>\n",
       "      <td>India</td>\n",
       "      <td>West_Bengal</td>\n",
       "      <td>Kolkata</td>\n",
       "      <td>Victoria, Kolkata - WBPCB</td>\n",
       "      <td>11-04-2024 18:00:00</td>\n",
       "      <td>22.544808</td>\n",
       "      <td>88.340369</td>\n",
       "      <td>PM10</td>\n",
       "      <td>119.0</td>\n",
       "      <td>165.0</td>\n",
       "      <td>147.0</td>\n",
       "    </tr>\n",
       "    <tr>\n",
       "      <th>3270</th>\n",
       "      <td>India</td>\n",
       "      <td>West_Bengal</td>\n",
       "      <td>Siliguri</td>\n",
       "      <td>Ward-32 Bapupara, Siliguri - WBPCB</td>\n",
       "      <td>11-04-2024 18:00:00</td>\n",
       "      <td>26.687923</td>\n",
       "      <td>88.415250</td>\n",
       "      <td>PM2.5</td>\n",
       "      <td>58.0</td>\n",
       "      <td>77.0</td>\n",
       "      <td>67.0</td>\n",
       "    </tr>\n",
       "    <tr>\n",
       "      <th>3271</th>\n",
       "      <td>India</td>\n",
       "      <td>West_Bengal</td>\n",
       "      <td>Siliguri</td>\n",
       "      <td>Ward-32 Bapupara, Siliguri - WBPCB</td>\n",
       "      <td>11-04-2024 18:00:00</td>\n",
       "      <td>26.687923</td>\n",
       "      <td>88.415250</td>\n",
       "      <td>PM10</td>\n",
       "      <td>45.0</td>\n",
       "      <td>105.0</td>\n",
       "      <td>68.0</td>\n",
       "    </tr>\n",
       "  </tbody>\n",
       "</table>\n",
       "<p>3272 rows × 11 columns</p>\n",
       "</div>"
      ],
      "text/plain": [
       "     country           state               city  \\\n",
       "0      India  Andhra_Pradesh          Amaravati   \n",
       "1      India  Andhra_Pradesh          Anantapur   \n",
       "2      India  Andhra_Pradesh             Kadapa   \n",
       "3      India  Andhra_Pradesh  Rajamahendravaram   \n",
       "4      India  Andhra_Pradesh           Tirupati   \n",
       "...      ...             ...                ...   \n",
       "3267   India     West_Bengal            Kolkata   \n",
       "3268   India     West_Bengal            Kolkata   \n",
       "3269   India     West_Bengal            Kolkata   \n",
       "3270   India     West_Bengal           Siliguri   \n",
       "3271   India     West_Bengal           Siliguri   \n",
       "\n",
       "                                             station          last_update  \\\n",
       "0                     Secretariat, Amaravati - APPCB  11-04-2024 18:00:00   \n",
       "1                       Gulzarpet, Anantapur - APPCB  11-04-2024 18:00:00   \n",
       "2                    Yerramukkapalli, Kadapa - APPCB  11-04-2024 18:00:00   \n",
       "3     Anand Kala Kshetram, Rajamahendravaram - APPCB  11-04-2024 18:00:00   \n",
       "4                         Tirumala, Tirupati - APPCB  11-04-2024 18:00:00   \n",
       "...                                              ...                  ...   \n",
       "3267                       Jadavpur, Kolkata - WBPCB  11-04-2024 18:00:00   \n",
       "3268               Rabindra Sarobar, Kolkata - WBPCB  11-04-2024 18:00:00   \n",
       "3269                       Victoria, Kolkata - WBPCB  11-04-2024 18:00:00   \n",
       "3270              Ward-32 Bapupara, Siliguri - WBPCB  11-04-2024 18:00:00   \n",
       "3271              Ward-32 Bapupara, Siliguri - WBPCB  11-04-2024 18:00:00   \n",
       "\n",
       "       latitude  longitude pollutant_id  pollutant_min  pollutant_max  \\\n",
       "0     16.515083  80.518167          NH3            3.0            4.0   \n",
       "1     14.675886  77.593027         PM10           72.0          106.0   \n",
       "2     14.465052  78.824187        OZONE           16.0           73.0   \n",
       "3     16.987287  81.736318        PM2.5           39.0          407.0   \n",
       "4     13.670000  79.350000        PM2.5           32.0           95.0   \n",
       "...         ...        ...          ...            ...            ...   \n",
       "3267  22.499290  88.369170        OZONE            8.0          117.0   \n",
       "3268  22.511060  88.351420          SO2           21.0          101.0   \n",
       "3269  22.544808  88.340369         PM10          119.0          165.0   \n",
       "3270  26.687923  88.415250        PM2.5           58.0           77.0   \n",
       "3271  26.687923  88.415250         PM10           45.0          105.0   \n",
       "\n",
       "      pollutant_avg  \n",
       "0               4.0  \n",
       "1              90.0  \n",
       "2              50.0  \n",
       "3             117.0  \n",
       "4              61.0  \n",
       "...             ...  \n",
       "3267           77.0  \n",
       "3268           41.0  \n",
       "3269          147.0  \n",
       "3270           67.0  \n",
       "3271           68.0  \n",
       "\n",
       "[3272 rows x 11 columns]"
      ]
     },
     "execution_count": 3,
     "metadata": {},
     "output_type": "execute_result"
    }
   ],
   "source": [
    "df"
   ]
  },
  {
   "cell_type": "code",
   "execution_count": 4,
   "id": "63250f55",
   "metadata": {},
   "outputs": [],
   "source": [
    "#Separating station and its location\n",
    "df[['station', 'station_location']] = df['station'].str.split(', ', n=1, expand=True)"
   ]
  },
  {
   "cell_type": "code",
   "execution_count": 5,
   "id": "f3f80c5a",
   "metadata": {},
   "outputs": [
    {
     "data": {
      "text/html": [
       "<div>\n",
       "<style scoped>\n",
       "    .dataframe tbody tr th:only-of-type {\n",
       "        vertical-align: middle;\n",
       "    }\n",
       "\n",
       "    .dataframe tbody tr th {\n",
       "        vertical-align: top;\n",
       "    }\n",
       "\n",
       "    .dataframe thead th {\n",
       "        text-align: right;\n",
       "    }\n",
       "</style>\n",
       "<table border=\"1\" class=\"dataframe\">\n",
       "  <thead>\n",
       "    <tr style=\"text-align: right;\">\n",
       "      <th></th>\n",
       "      <th>country</th>\n",
       "      <th>state</th>\n",
       "      <th>city</th>\n",
       "      <th>station</th>\n",
       "      <th>last_update</th>\n",
       "      <th>latitude</th>\n",
       "      <th>longitude</th>\n",
       "      <th>pollutant_id</th>\n",
       "      <th>pollutant_min</th>\n",
       "      <th>pollutant_max</th>\n",
       "      <th>pollutant_avg</th>\n",
       "      <th>station_location</th>\n",
       "    </tr>\n",
       "  </thead>\n",
       "  <tbody>\n",
       "    <tr>\n",
       "      <th>0</th>\n",
       "      <td>India</td>\n",
       "      <td>Andhra_Pradesh</td>\n",
       "      <td>Amaravati</td>\n",
       "      <td>Secretariat</td>\n",
       "      <td>11-04-2024 18:00:00</td>\n",
       "      <td>16.515083</td>\n",
       "      <td>80.518167</td>\n",
       "      <td>NH3</td>\n",
       "      <td>3.0</td>\n",
       "      <td>4.0</td>\n",
       "      <td>4.0</td>\n",
       "      <td>Amaravati - APPCB</td>\n",
       "    </tr>\n",
       "    <tr>\n",
       "      <th>1</th>\n",
       "      <td>India</td>\n",
       "      <td>Andhra_Pradesh</td>\n",
       "      <td>Anantapur</td>\n",
       "      <td>Gulzarpet</td>\n",
       "      <td>11-04-2024 18:00:00</td>\n",
       "      <td>14.675886</td>\n",
       "      <td>77.593027</td>\n",
       "      <td>PM10</td>\n",
       "      <td>72.0</td>\n",
       "      <td>106.0</td>\n",
       "      <td>90.0</td>\n",
       "      <td>Anantapur - APPCB</td>\n",
       "    </tr>\n",
       "    <tr>\n",
       "      <th>2</th>\n",
       "      <td>India</td>\n",
       "      <td>Andhra_Pradesh</td>\n",
       "      <td>Kadapa</td>\n",
       "      <td>Yerramukkapalli</td>\n",
       "      <td>11-04-2024 18:00:00</td>\n",
       "      <td>14.465052</td>\n",
       "      <td>78.824187</td>\n",
       "      <td>OZONE</td>\n",
       "      <td>16.0</td>\n",
       "      <td>73.0</td>\n",
       "      <td>50.0</td>\n",
       "      <td>Kadapa - APPCB</td>\n",
       "    </tr>\n",
       "    <tr>\n",
       "      <th>3</th>\n",
       "      <td>India</td>\n",
       "      <td>Andhra_Pradesh</td>\n",
       "      <td>Rajamahendravaram</td>\n",
       "      <td>Anand Kala Kshetram</td>\n",
       "      <td>11-04-2024 18:00:00</td>\n",
       "      <td>16.987287</td>\n",
       "      <td>81.736318</td>\n",
       "      <td>PM2.5</td>\n",
       "      <td>39.0</td>\n",
       "      <td>407.0</td>\n",
       "      <td>117.0</td>\n",
       "      <td>Rajamahendravaram - APPCB</td>\n",
       "    </tr>\n",
       "    <tr>\n",
       "      <th>4</th>\n",
       "      <td>India</td>\n",
       "      <td>Andhra_Pradesh</td>\n",
       "      <td>Tirupati</td>\n",
       "      <td>Tirumala</td>\n",
       "      <td>11-04-2024 18:00:00</td>\n",
       "      <td>13.670000</td>\n",
       "      <td>79.350000</td>\n",
       "      <td>PM2.5</td>\n",
       "      <td>32.0</td>\n",
       "      <td>95.0</td>\n",
       "      <td>61.0</td>\n",
       "      <td>Tirupati - APPCB</td>\n",
       "    </tr>\n",
       "    <tr>\n",
       "      <th>...</th>\n",
       "      <td>...</td>\n",
       "      <td>...</td>\n",
       "      <td>...</td>\n",
       "      <td>...</td>\n",
       "      <td>...</td>\n",
       "      <td>...</td>\n",
       "      <td>...</td>\n",
       "      <td>...</td>\n",
       "      <td>...</td>\n",
       "      <td>...</td>\n",
       "      <td>...</td>\n",
       "      <td>...</td>\n",
       "    </tr>\n",
       "    <tr>\n",
       "      <th>3267</th>\n",
       "      <td>India</td>\n",
       "      <td>West_Bengal</td>\n",
       "      <td>Kolkata</td>\n",
       "      <td>Jadavpur</td>\n",
       "      <td>11-04-2024 18:00:00</td>\n",
       "      <td>22.499290</td>\n",
       "      <td>88.369170</td>\n",
       "      <td>OZONE</td>\n",
       "      <td>8.0</td>\n",
       "      <td>117.0</td>\n",
       "      <td>77.0</td>\n",
       "      <td>Kolkata - WBPCB</td>\n",
       "    </tr>\n",
       "    <tr>\n",
       "      <th>3268</th>\n",
       "      <td>India</td>\n",
       "      <td>West_Bengal</td>\n",
       "      <td>Kolkata</td>\n",
       "      <td>Rabindra Sarobar</td>\n",
       "      <td>11-04-2024 18:00:00</td>\n",
       "      <td>22.511060</td>\n",
       "      <td>88.351420</td>\n",
       "      <td>SO2</td>\n",
       "      <td>21.0</td>\n",
       "      <td>101.0</td>\n",
       "      <td>41.0</td>\n",
       "      <td>Kolkata - WBPCB</td>\n",
       "    </tr>\n",
       "    <tr>\n",
       "      <th>3269</th>\n",
       "      <td>India</td>\n",
       "      <td>West_Bengal</td>\n",
       "      <td>Kolkata</td>\n",
       "      <td>Victoria</td>\n",
       "      <td>11-04-2024 18:00:00</td>\n",
       "      <td>22.544808</td>\n",
       "      <td>88.340369</td>\n",
       "      <td>PM10</td>\n",
       "      <td>119.0</td>\n",
       "      <td>165.0</td>\n",
       "      <td>147.0</td>\n",
       "      <td>Kolkata - WBPCB</td>\n",
       "    </tr>\n",
       "    <tr>\n",
       "      <th>3270</th>\n",
       "      <td>India</td>\n",
       "      <td>West_Bengal</td>\n",
       "      <td>Siliguri</td>\n",
       "      <td>Ward-32 Bapupara</td>\n",
       "      <td>11-04-2024 18:00:00</td>\n",
       "      <td>26.687923</td>\n",
       "      <td>88.415250</td>\n",
       "      <td>PM2.5</td>\n",
       "      <td>58.0</td>\n",
       "      <td>77.0</td>\n",
       "      <td>67.0</td>\n",
       "      <td>Siliguri - WBPCB</td>\n",
       "    </tr>\n",
       "    <tr>\n",
       "      <th>3271</th>\n",
       "      <td>India</td>\n",
       "      <td>West_Bengal</td>\n",
       "      <td>Siliguri</td>\n",
       "      <td>Ward-32 Bapupara</td>\n",
       "      <td>11-04-2024 18:00:00</td>\n",
       "      <td>26.687923</td>\n",
       "      <td>88.415250</td>\n",
       "      <td>PM10</td>\n",
       "      <td>45.0</td>\n",
       "      <td>105.0</td>\n",
       "      <td>68.0</td>\n",
       "      <td>Siliguri - WBPCB</td>\n",
       "    </tr>\n",
       "  </tbody>\n",
       "</table>\n",
       "<p>3272 rows × 12 columns</p>\n",
       "</div>"
      ],
      "text/plain": [
       "     country           state               city              station  \\\n",
       "0      India  Andhra_Pradesh          Amaravati          Secretariat   \n",
       "1      India  Andhra_Pradesh          Anantapur            Gulzarpet   \n",
       "2      India  Andhra_Pradesh             Kadapa      Yerramukkapalli   \n",
       "3      India  Andhra_Pradesh  Rajamahendravaram  Anand Kala Kshetram   \n",
       "4      India  Andhra_Pradesh           Tirupati             Tirumala   \n",
       "...      ...             ...                ...                  ...   \n",
       "3267   India     West_Bengal            Kolkata             Jadavpur   \n",
       "3268   India     West_Bengal            Kolkata     Rabindra Sarobar   \n",
       "3269   India     West_Bengal            Kolkata             Victoria   \n",
       "3270   India     West_Bengal           Siliguri     Ward-32 Bapupara   \n",
       "3271   India     West_Bengal           Siliguri     Ward-32 Bapupara   \n",
       "\n",
       "              last_update   latitude  longitude pollutant_id  pollutant_min  \\\n",
       "0     11-04-2024 18:00:00  16.515083  80.518167          NH3            3.0   \n",
       "1     11-04-2024 18:00:00  14.675886  77.593027         PM10           72.0   \n",
       "2     11-04-2024 18:00:00  14.465052  78.824187        OZONE           16.0   \n",
       "3     11-04-2024 18:00:00  16.987287  81.736318        PM2.5           39.0   \n",
       "4     11-04-2024 18:00:00  13.670000  79.350000        PM2.5           32.0   \n",
       "...                   ...        ...        ...          ...            ...   \n",
       "3267  11-04-2024 18:00:00  22.499290  88.369170        OZONE            8.0   \n",
       "3268  11-04-2024 18:00:00  22.511060  88.351420          SO2           21.0   \n",
       "3269  11-04-2024 18:00:00  22.544808  88.340369         PM10          119.0   \n",
       "3270  11-04-2024 18:00:00  26.687923  88.415250        PM2.5           58.0   \n",
       "3271  11-04-2024 18:00:00  26.687923  88.415250         PM10           45.0   \n",
       "\n",
       "      pollutant_max  pollutant_avg           station_location  \n",
       "0               4.0            4.0          Amaravati - APPCB  \n",
       "1             106.0           90.0          Anantapur - APPCB  \n",
       "2              73.0           50.0             Kadapa - APPCB  \n",
       "3             407.0          117.0  Rajamahendravaram - APPCB  \n",
       "4              95.0           61.0           Tirupati - APPCB  \n",
       "...             ...            ...                        ...  \n",
       "3267          117.0           77.0            Kolkata - WBPCB  \n",
       "3268          101.0           41.0            Kolkata - WBPCB  \n",
       "3269          165.0          147.0            Kolkata - WBPCB  \n",
       "3270           77.0           67.0           Siliguri - WBPCB  \n",
       "3271          105.0           68.0           Siliguri - WBPCB  \n",
       "\n",
       "[3272 rows x 12 columns]"
      ]
     },
     "execution_count": 5,
     "metadata": {},
     "output_type": "execute_result"
    }
   ],
   "source": [
    "df"
   ]
  },
  {
   "cell_type": "code",
   "execution_count": 6,
   "id": "10f58119",
   "metadata": {},
   "outputs": [
    {
     "data": {
      "text/plain": [
       "(3272, 12)"
      ]
     },
     "execution_count": 6,
     "metadata": {},
     "output_type": "execute_result"
    }
   ],
   "source": [
    "#Shape of dataframe\n",
    "df.shape"
   ]
  },
  {
   "cell_type": "code",
   "execution_count": 7,
   "id": "6680ed84",
   "metadata": {},
   "outputs": [
    {
     "data": {
      "text/html": [
       "<div>\n",
       "<style scoped>\n",
       "    .dataframe tbody tr th:only-of-type {\n",
       "        vertical-align: middle;\n",
       "    }\n",
       "\n",
       "    .dataframe tbody tr th {\n",
       "        vertical-align: top;\n",
       "    }\n",
       "\n",
       "    .dataframe thead th {\n",
       "        text-align: right;\n",
       "    }\n",
       "</style>\n",
       "<table border=\"1\" class=\"dataframe\">\n",
       "  <thead>\n",
       "    <tr style=\"text-align: right;\">\n",
       "      <th></th>\n",
       "      <th>latitude</th>\n",
       "      <th>longitude</th>\n",
       "      <th>pollutant_min</th>\n",
       "      <th>pollutant_max</th>\n",
       "      <th>pollutant_avg</th>\n",
       "    </tr>\n",
       "  </thead>\n",
       "  <tbody>\n",
       "    <tr>\n",
       "      <th>count</th>\n",
       "      <td>3272.000000</td>\n",
       "      <td>3272.000000</td>\n",
       "      <td>2938.000000</td>\n",
       "      <td>2938.000000</td>\n",
       "      <td>2938.000000</td>\n",
       "    </tr>\n",
       "    <tr>\n",
       "      <th>mean</th>\n",
       "      <td>22.839685</td>\n",
       "      <td>78.539891</td>\n",
       "      <td>25.013615</td>\n",
       "      <td>88.519401</td>\n",
       "      <td>50.982982</td>\n",
       "    </tr>\n",
       "    <tr>\n",
       "      <th>std</th>\n",
       "      <td>5.370899</td>\n",
       "      <td>4.843461</td>\n",
       "      <td>28.507640</td>\n",
       "      <td>97.894942</td>\n",
       "      <td>54.277171</td>\n",
       "    </tr>\n",
       "    <tr>\n",
       "      <th>min</th>\n",
       "      <td>8.514909</td>\n",
       "      <td>70.909168</td>\n",
       "      <td>1.000000</td>\n",
       "      <td>1.000000</td>\n",
       "      <td>1.000000</td>\n",
       "    </tr>\n",
       "    <tr>\n",
       "      <th>25%</th>\n",
       "      <td>19.086300</td>\n",
       "      <td>75.563181</td>\n",
       "      <td>5.000000</td>\n",
       "      <td>20.000000</td>\n",
       "      <td>13.000000</td>\n",
       "    </tr>\n",
       "    <tr>\n",
       "      <th>50%</th>\n",
       "      <td>23.540435</td>\n",
       "      <td>77.298051</td>\n",
       "      <td>15.000000</td>\n",
       "      <td>58.000000</td>\n",
       "      <td>33.000000</td>\n",
       "    </tr>\n",
       "    <tr>\n",
       "      <th>75%</th>\n",
       "      <td>27.215415</td>\n",
       "      <td>80.322986</td>\n",
       "      <td>34.000000</td>\n",
       "      <td>113.000000</td>\n",
       "      <td>70.000000</td>\n",
       "    </tr>\n",
       "    <tr>\n",
       "      <th>max</th>\n",
       "      <td>31.620000</td>\n",
       "      <td>94.636574</td>\n",
       "      <td>304.000000</td>\n",
       "      <td>500.000000</td>\n",
       "      <td>355.000000</td>\n",
       "    </tr>\n",
       "  </tbody>\n",
       "</table>\n",
       "</div>"
      ],
      "text/plain": [
       "          latitude    longitude  pollutant_min  pollutant_max  pollutant_avg\n",
       "count  3272.000000  3272.000000    2938.000000    2938.000000    2938.000000\n",
       "mean     22.839685    78.539891      25.013615      88.519401      50.982982\n",
       "std       5.370899     4.843461      28.507640      97.894942      54.277171\n",
       "min       8.514909    70.909168       1.000000       1.000000       1.000000\n",
       "25%      19.086300    75.563181       5.000000      20.000000      13.000000\n",
       "50%      23.540435    77.298051      15.000000      58.000000      33.000000\n",
       "75%      27.215415    80.322986      34.000000     113.000000      70.000000\n",
       "max      31.620000    94.636574     304.000000     500.000000     355.000000"
      ]
     },
     "execution_count": 7,
     "metadata": {},
     "output_type": "execute_result"
    }
   ],
   "source": [
    "#Information of Dataset\n",
    "df.describe()"
   ]
  },
  {
   "cell_type": "code",
   "execution_count": 8,
   "id": "688b58d4",
   "metadata": {},
   "outputs": [
    {
     "data": {
      "text/plain": [
       "country               0\n",
       "state                 0\n",
       "city                  0\n",
       "station               0\n",
       "last_update           0\n",
       "latitude              0\n",
       "longitude             0\n",
       "pollutant_id          0\n",
       "pollutant_min       334\n",
       "pollutant_max       334\n",
       "pollutant_avg       334\n",
       "station_location      7\n",
       "dtype: int64"
      ]
     },
     "execution_count": 8,
     "metadata": {},
     "output_type": "execute_result"
    }
   ],
   "source": [
    "#checking missing values\n",
    "df.isnull().sum()"
   ]
  },
  {
   "cell_type": "code",
   "execution_count": 9,
   "id": "1d332c8c",
   "metadata": {},
   "outputs": [
    {
     "data": {
      "text/plain": [
       "country\n",
       "India    3272\n",
       "dtype: int64"
      ]
     },
     "execution_count": 9,
     "metadata": {},
     "output_type": "execute_result"
    }
   ],
   "source": [
    "#Getting value counts of column country\n",
    "df.value_counts('country')"
   ]
  },
  {
   "cell_type": "code",
   "execution_count": 10,
   "id": "55ea686c",
   "metadata": {},
   "outputs": [
    {
     "data": {
      "text/plain": [
       "state\n",
       "Maharashtra          564\n",
       "Uttar_Pradesh        350\n",
       "Rajasthan            321\n",
       "Delhi                256\n",
       "Karnataka            247\n",
       "Bihar                217\n",
       "Haryana              194\n",
       "Madhya Pradesh       163\n",
       "TamilNadu            119\n",
       "Odisha               116\n",
       "West_Bengal          112\n",
       "Gujarat               96\n",
       "Telangana             88\n",
       "Chhattisgarh          85\n",
       "Andhra_Pradesh        79\n",
       "Assam                 55\n",
       "Punjab                51\n",
       "Kerala                35\n",
       "Chandigarh            21\n",
       "Uttarakhand           20\n",
       "Jharkhand             18\n",
       "Manipur               12\n",
       "Nagaland               7\n",
       "Puducherry             7\n",
       "Sikkim                 7\n",
       "Himachal Pradesh       7\n",
       "Tripura                7\n",
       "Arunachal_Pradesh      6\n",
       "Meghalaya              6\n",
       "Mizoram                6\n",
       "dtype: int64"
      ]
     },
     "execution_count": 10,
     "metadata": {},
     "output_type": "execute_result"
    }
   ],
   "source": [
    "#Getting value counts of column state\n",
    "df.value_counts('state')"
   ]
  },
  {
   "cell_type": "code",
   "execution_count": 11,
   "id": "3f044a06",
   "metadata": {},
   "outputs": [
    {
     "data": {
      "text/plain": [
       "263"
      ]
     },
     "execution_count": 11,
     "metadata": {},
     "output_type": "execute_result"
    }
   ],
   "source": [
    "#Getting count of column city\n",
    "len(df.value_counts('city'))"
   ]
  },
  {
   "cell_type": "code",
   "execution_count": 12,
   "id": "45a66817",
   "metadata": {},
   "outputs": [
    {
     "data": {
      "text/plain": [
       "471"
      ]
     },
     "execution_count": 12,
     "metadata": {},
     "output_type": "execute_result"
    }
   ],
   "source": [
    "#Getting count of column station\n",
    "len(df.value_counts('station'))"
   ]
  },
  {
   "cell_type": "code",
   "execution_count": 13,
   "id": "37f425cb",
   "metadata": {},
   "outputs": [
    {
     "data": {
      "text/plain": [
       "pollutant_id\n",
       "PM2.5    483\n",
       "NO2      477\n",
       "CO       475\n",
       "PM10     475\n",
       "OZONE    469\n",
       "SO2      467\n",
       "NH3      426\n",
       "dtype: int64"
      ]
     },
     "execution_count": 13,
     "metadata": {},
     "output_type": "execute_result"
    }
   ],
   "source": [
    "#Getting value counts of pollutant id\n",
    "df.value_counts('pollutant_id')"
   ]
  },
  {
   "cell_type": "code",
   "execution_count": 14,
   "id": "6e8d8992",
   "metadata": {},
   "outputs": [],
   "source": [
    "#Subtituting null values with mode"
   ]
  },
  {
   "cell_type": "code",
   "execution_count": 15,
   "id": "056ecf88",
   "metadata": {},
   "outputs": [
    {
     "data": {
      "text/plain": [
       "country               0\n",
       "state                 0\n",
       "city                  0\n",
       "station               0\n",
       "last_update           0\n",
       "latitude              0\n",
       "longitude             0\n",
       "pollutant_id          0\n",
       "pollutant_min       334\n",
       "pollutant_max       334\n",
       "pollutant_avg       334\n",
       "station_location      7\n",
       "dtype: int64"
      ]
     },
     "execution_count": 15,
     "metadata": {},
     "output_type": "execute_result"
    }
   ],
   "source": [
    "df.isnull().sum()"
   ]
  },
  {
   "cell_type": "code",
   "execution_count": 16,
   "id": "16427b19",
   "metadata": {},
   "outputs": [],
   "source": [
    "df_filled = df.fillna(df.mode().iloc[0])"
   ]
  },
  {
   "cell_type": "code",
   "execution_count": 17,
   "id": "bd4ada26",
   "metadata": {},
   "outputs": [
    {
     "data": {
      "text/plain": [
       "country             0\n",
       "state               0\n",
       "city                0\n",
       "station             0\n",
       "last_update         0\n",
       "latitude            0\n",
       "longitude           0\n",
       "pollutant_id        0\n",
       "pollutant_min       0\n",
       "pollutant_max       0\n",
       "pollutant_avg       0\n",
       "station_location    0\n",
       "dtype: int64"
      ]
     },
     "execution_count": 17,
     "metadata": {},
     "output_type": "execute_result"
    }
   ],
   "source": [
    "#Verifying that null values are replaced with mode\n",
    "df_filled.isnull().sum()"
   ]
  },
  {
   "cell_type": "code",
   "execution_count": 18,
   "id": "e396a0a5",
   "metadata": {},
   "outputs": [
    {
     "data": {
      "text/html": [
       "<div>\n",
       "<style scoped>\n",
       "    .dataframe tbody tr th:only-of-type {\n",
       "        vertical-align: middle;\n",
       "    }\n",
       "\n",
       "    .dataframe tbody tr th {\n",
       "        vertical-align: top;\n",
       "    }\n",
       "\n",
       "    .dataframe thead th {\n",
       "        text-align: right;\n",
       "    }\n",
       "</style>\n",
       "<table border=\"1\" class=\"dataframe\">\n",
       "  <thead>\n",
       "    <tr style=\"text-align: right;\">\n",
       "      <th></th>\n",
       "      <th>city</th>\n",
       "      <th>station</th>\n",
       "      <th>latitude</th>\n",
       "      <th>longitude</th>\n",
       "      <th>pollutant_id</th>\n",
       "      <th>station_location</th>\n",
       "    </tr>\n",
       "  </thead>\n",
       "  <tbody>\n",
       "    <tr>\n",
       "      <th>0</th>\n",
       "      <td>Amaravati</td>\n",
       "      <td>Secretariat</td>\n",
       "      <td>16.515083</td>\n",
       "      <td>80.518167</td>\n",
       "      <td>NH3</td>\n",
       "      <td>Amaravati - APPCB</td>\n",
       "    </tr>\n",
       "    <tr>\n",
       "      <th>1</th>\n",
       "      <td>Anantapur</td>\n",
       "      <td>Gulzarpet</td>\n",
       "      <td>14.675886</td>\n",
       "      <td>77.593027</td>\n",
       "      <td>PM10</td>\n",
       "      <td>Anantapur - APPCB</td>\n",
       "    </tr>\n",
       "    <tr>\n",
       "      <th>2</th>\n",
       "      <td>Kadapa</td>\n",
       "      <td>Yerramukkapalli</td>\n",
       "      <td>14.465052</td>\n",
       "      <td>78.824187</td>\n",
       "      <td>OZONE</td>\n",
       "      <td>Kadapa - APPCB</td>\n",
       "    </tr>\n",
       "    <tr>\n",
       "      <th>3</th>\n",
       "      <td>Rajamahendravaram</td>\n",
       "      <td>Anand Kala Kshetram</td>\n",
       "      <td>16.987287</td>\n",
       "      <td>81.736318</td>\n",
       "      <td>PM2.5</td>\n",
       "      <td>Rajamahendravaram - APPCB</td>\n",
       "    </tr>\n",
       "    <tr>\n",
       "      <th>4</th>\n",
       "      <td>Tirupati</td>\n",
       "      <td>Tirumala</td>\n",
       "      <td>13.670000</td>\n",
       "      <td>79.350000</td>\n",
       "      <td>PM2.5</td>\n",
       "      <td>Tirupati - APPCB</td>\n",
       "    </tr>\n",
       "    <tr>\n",
       "      <th>...</th>\n",
       "      <td>...</td>\n",
       "      <td>...</td>\n",
       "      <td>...</td>\n",
       "      <td>...</td>\n",
       "      <td>...</td>\n",
       "      <td>...</td>\n",
       "    </tr>\n",
       "    <tr>\n",
       "      <th>3267</th>\n",
       "      <td>Kolkata</td>\n",
       "      <td>Jadavpur</td>\n",
       "      <td>22.499290</td>\n",
       "      <td>88.369170</td>\n",
       "      <td>OZONE</td>\n",
       "      <td>Kolkata - WBPCB</td>\n",
       "    </tr>\n",
       "    <tr>\n",
       "      <th>3268</th>\n",
       "      <td>Kolkata</td>\n",
       "      <td>Rabindra Sarobar</td>\n",
       "      <td>22.511060</td>\n",
       "      <td>88.351420</td>\n",
       "      <td>SO2</td>\n",
       "      <td>Kolkata - WBPCB</td>\n",
       "    </tr>\n",
       "    <tr>\n",
       "      <th>3269</th>\n",
       "      <td>Kolkata</td>\n",
       "      <td>Victoria</td>\n",
       "      <td>22.544808</td>\n",
       "      <td>88.340369</td>\n",
       "      <td>PM10</td>\n",
       "      <td>Kolkata - WBPCB</td>\n",
       "    </tr>\n",
       "    <tr>\n",
       "      <th>3270</th>\n",
       "      <td>Siliguri</td>\n",
       "      <td>Ward-32 Bapupara</td>\n",
       "      <td>26.687923</td>\n",
       "      <td>88.415250</td>\n",
       "      <td>PM2.5</td>\n",
       "      <td>Siliguri - WBPCB</td>\n",
       "    </tr>\n",
       "    <tr>\n",
       "      <th>3271</th>\n",
       "      <td>Siliguri</td>\n",
       "      <td>Ward-32 Bapupara</td>\n",
       "      <td>26.687923</td>\n",
       "      <td>88.415250</td>\n",
       "      <td>PM10</td>\n",
       "      <td>Siliguri - WBPCB</td>\n",
       "    </tr>\n",
       "  </tbody>\n",
       "</table>\n",
       "<p>3272 rows × 6 columns</p>\n",
       "</div>"
      ],
      "text/plain": [
       "                   city              station   latitude  longitude  \\\n",
       "0             Amaravati          Secretariat  16.515083  80.518167   \n",
       "1             Anantapur            Gulzarpet  14.675886  77.593027   \n",
       "2                Kadapa      Yerramukkapalli  14.465052  78.824187   \n",
       "3     Rajamahendravaram  Anand Kala Kshetram  16.987287  81.736318   \n",
       "4              Tirupati             Tirumala  13.670000  79.350000   \n",
       "...                 ...                  ...        ...        ...   \n",
       "3267            Kolkata             Jadavpur  22.499290  88.369170   \n",
       "3268            Kolkata     Rabindra Sarobar  22.511060  88.351420   \n",
       "3269            Kolkata             Victoria  22.544808  88.340369   \n",
       "3270           Siliguri     Ward-32 Bapupara  26.687923  88.415250   \n",
       "3271           Siliguri     Ward-32 Bapupara  26.687923  88.415250   \n",
       "\n",
       "     pollutant_id           station_location  \n",
       "0             NH3          Amaravati - APPCB  \n",
       "1            PM10          Anantapur - APPCB  \n",
       "2           OZONE             Kadapa - APPCB  \n",
       "3           PM2.5  Rajamahendravaram - APPCB  \n",
       "4           PM2.5           Tirupati - APPCB  \n",
       "...           ...                        ...  \n",
       "3267        OZONE            Kolkata - WBPCB  \n",
       "3268          SO2            Kolkata - WBPCB  \n",
       "3269         PM10            Kolkata - WBPCB  \n",
       "3270        PM2.5           Siliguri - WBPCB  \n",
       "3271         PM10           Siliguri - WBPCB  \n",
       "\n",
       "[3272 rows x 6 columns]"
      ]
     },
     "execution_count": 18,
     "metadata": {},
     "output_type": "execute_result"
    }
   ],
   "source": [
    "#Taking required columns are input\n",
    "X=df_filled.iloc[:, [2,3, 5, 6, 7, 11]]\n",
    "X"
   ]
  },
  {
   "cell_type": "code",
   "execution_count": 19,
   "id": "85631779",
   "metadata": {},
   "outputs": [
    {
     "data": {
      "text/plain": [
       "0         4.0\n",
       "1        90.0\n",
       "2        50.0\n",
       "3       117.0\n",
       "4        61.0\n",
       "        ...  \n",
       "3267     77.0\n",
       "3268     41.0\n",
       "3269    147.0\n",
       "3270     67.0\n",
       "3271     68.0\n",
       "Name: pollutant_avg, Length: 3272, dtype: float64"
      ]
     },
     "execution_count": 19,
     "metadata": {},
     "output_type": "execute_result"
    }
   ],
   "source": [
    "#Taking required column for output\n",
    "#Here we are taking pollutant_avg as output\n",
    "y = df_filled.iloc[:, 10]\n",
    "y"
   ]
  },
  {
   "cell_type": "code",
   "execution_count": 20,
   "id": "f4191b37",
   "metadata": {},
   "outputs": [],
   "source": [
    "#Using one hot encoding to convert categorical variable like city, station, pollutant_id and station_location in numerical\n",
    "ct = ColumnTransformer(transformers=[('encoder', OneHotEncoder(), [0, 1, 4, 5])], remainder='passthrough')\n",
    "X_encoded = ct.fit_transform(X)"
   ]
  },
  {
   "cell_type": "code",
   "execution_count": 21,
   "id": "ee4215d4",
   "metadata": {},
   "outputs": [
    {
     "data": {
      "text/plain": [
       "<3272x1030 sparse matrix of type '<class 'numpy.float64'>'\n",
       "\twith 19632 stored elements in Compressed Sparse Row format>"
      ]
     },
     "execution_count": 21,
     "metadata": {},
     "output_type": "execute_result"
    }
   ],
   "source": [
    "X_encoded"
   ]
  },
  {
   "cell_type": "code",
   "execution_count": 53,
   "id": "c624797a",
   "metadata": {},
   "outputs": [
    {
     "name": "stdout",
     "output_type": "stream",
     "text": [
      "Mean Squared Error: 1047.5737135609338\n",
      "R-squared (R2) score: 0.6166307083659528\n"
     ]
    }
   ],
   "source": [
    "#XGBoost\n",
    "\n",
    "X = X_encoded\n",
    "\n",
    "# Split the data into training and testing sets\n",
    "X_train, X_test, y_train, y_test = train_test_split(X, y, test_size=0.2, random_state=42)\n",
    "\n",
    "# Convert the data into DMatrix format\n",
    "dtrain = xgb.DMatrix(X_train, label=y_train)\n",
    "dtest = xgb.DMatrix(X_test, label=y_test)\n",
    "\n",
    "# Set XGBoost parameters\n",
    "params = {\n",
    "    'objective': 'reg:squarederror',  # Specify the objective (loss function)\n",
    "    'eval_metric': 'rmse'              # Specify evaluation metric\n",
    "}\n",
    "\n",
    "# Train the XGBoost model\n",
    "num_rounds = 100  # Number of boosting rounds (trees)\n",
    "model = xgb.train(params, dtrain, num_rounds)\n",
    "\n",
    "# Make predictions on the test set\n",
    "y_pred = model.predict(dtest)\n",
    "\n",
    "# Calculate Mean Squared Error and R-squared (R2) score\n",
    "mse = mean_squared_error(y_test, y_pred)\n",
    "r2 = r2_score(y_test, y_pred)\n",
    "\n",
    "print(\"Mean Squared Error:\", mse)\n",
    "print(\"R-squared (R2) score:\", r2)\n"
   ]
  },
  {
   "cell_type": "code",
   "execution_count": 54,
   "id": "1bb5395c",
   "metadata": {},
   "outputs": [
    {
     "data": {
      "text/plain": [
       "[<matplotlib.lines.Line2D at 0x12bbb8a85e0>]"
      ]
     },
     "execution_count": 54,
     "metadata": {},
     "output_type": "execute_result"
    },
    {
     "data": {
      "image/png": "[encoded data removed]",
      "text/plain": [
       "<Figure size 432x288 with 1 Axes>"
      ]
     },
     "metadata": {
      "needs_background": "light"
     },
     "output_type": "display_data"
    }
   ],
   "source": [
    "#Visualising first 250 data points original y and predicted y\n",
    "plt.plot(y[:][:250])\n",
    "plt.plot(y_pred[:][:250], color='red')"
   ]
  },
  {
   "cell_type": "code",
   "execution_count": 55,
   "id": "c740533d",
   "metadata": {},
   "outputs": [
    {
     "name": "stdout",
     "output_type": "stream",
     "text": [
      "Mean Squared Error: 1066.0969453435116\n",
      "R-squared (R2) score: 0.6098519603357817\n"
     ]
    }
   ],
   "source": [
    "#Random Forest\n",
    "\n",
    "X=X_encoded\n",
    "\n",
    "# Split the data into training and testing sets\n",
    "X_train, X_test, y_train, y_test = train_test_split(X, y, test_size=0.2, random_state=42)\n",
    "\n",
    "# Train a Random Forest Regression model\n",
    "model = RandomForestRegressor(n_estimators=100, random_state=42)\n",
    "model.fit(X_train, y_train.ravel())  # ravel() is used to convert y_train to a 1D array\n",
    "\n",
    "# Make predictions on the test set\n",
    "y_pred = model.predict(X_test)\n",
    "\n",
    "# Calculate Mean Squared Error and R-squared (R2) score\n",
    "mse = mean_squared_error(y_test, y_pred)\n",
    "r2 = r2_score(y_test, y_pred)\n",
    "\n",
    "print(\"Mean Squared Error:\", mse)\n",
    "print(\"R-squared (R2) score:\", r2)\n"
   ]
  },
  {
   "cell_type": "code",
   "execution_count": 56,
   "id": "4bd0d663",
   "metadata": {},
   "outputs": [
    {
     "data": {
      "text/plain": [
       "[<matplotlib.lines.Line2D at 0x12bbc8e0700>]"
      ]
     },
     "execution_count": 56,
     "metadata": {},
     "output_type": "execute_result"
    },
    {
     "data": {
      "image/png": "[encoded data removed]",
      "text/plain": [
       "<Figure size 432x288 with 1 Axes>"
      ]
     },
     "metadata": {
      "needs_background": "light"
     },
     "output_type": "display_data"
    }
   ],
   "source": [
    "#Visualising first 250 data points original y and predicted y\n",
    "plt.plot(y[:][:250])\n",
    "plt.plot(y_pred[:][:250], color='red')"
   ]
  },
  {
   "cell_type": "code",
   "execution_count": null,
   "id": "eb1a9743",
   "metadata": {},
   "outputs": [],
   "source": []
  }
 ],
 "metadata": {
  "kernelspec": {
   "display_name": "Python 3",
   "language": "python",
   "name": "python3"
  },
  "language_info": {
   "codemirror_mode": {
    "name": "ipython",
    "version": 3
   },
   "file_extension": ".py",
   "mimetype": "text/x-python",
   "name": "python",
   "nbconvert_exporter": "python",
   "pygments_lexer": "ipython3",
   "version": "3.8.8"
  }
 },
 "nbformat": 4,
 "nbformat_minor": 5
}
